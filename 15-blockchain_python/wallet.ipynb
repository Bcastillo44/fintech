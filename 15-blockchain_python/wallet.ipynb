{
 "cells": [
  {
   "cell_type": "markdown",
   "metadata": {
    "cell_marker": "#####################",
    "lines_to_next_cell": 0
   },
   "source": [
    "## Importing libraries"
   ]
  },
  {
   "cell_type": "code",
   "execution_count": 83,
   "metadata": {},
   "outputs": [],
   "source": [
    "import subprocess \n",
    "import json\n",
    "import os\n",
    "from dotenv import load_dotenv\n",
    "from constants import *\n",
    "from bit import Key, PrivateKey, PrivateKeyTestnet\n",
    "from bit.network import NetworkAPI\n",
    "from bit import *\n",
    "from web3 import Web3\n",
    "from eth_account import Account "
   ]
  },
  {
   "cell_type": "markdown",
   "metadata": {
    "cell_marker": "######################################",
    "lines_to_next_cell": 0
   },
   "source": [
    "## Web3 connection and loading mnemonic. Nodes with POW"
   ]
  },
  {
   "cell_type": "code",
   "execution_count": 85,
   "metadata": {
    "lines_to_next_cell": 1
   },
   "outputs": [],
   "source": [
    "w3 = Web3(Web3.HTTPProvider(\"http://127.0.0.1.8545\"))\n",
    "\n",
    "# Loading EV\n",
    "load_dotenv\n",
    "\n",
    "# Loading Mnemonic EV\n",
    "mnemonic = os.getenv('MNEMONIC')"
   ]
  },
  {
   "cell_type": "markdown",
   "metadata": {
    "cell_marker": "#######################",
    "lines_to_next_cell": 0
   },
   "source": [
    "## Functions to transact"
   ]
  },
  {
   "cell_type": "code",
   "execution_count": 73,
   "metadata": {},
   "outputs": [],
   "source": [
    "def derive_wallets(mnemonic, coin, numderive):\n",
    "    \"\"\"Use the subprocess library to call the ./derive php file script from Python\"\"\"\n",
    "    command = 'php ./hd-wallet-derive/hd-wallet-derive.php -g --mnemonic=\"'+str(mnemonic)+'\" --numderive='+str(numderive)+' --coin='+str(coin)+' --format=jsonpretty' \n",
    "    p = subprocess.Popen(command, stdout=subprocess.PIPE, shell=True)\n",
    "    (output, err) = p.communicate()\n",
    "    return json.loads(output) \n",
    "\n",
    "# Create a coin object to hold child wallets\n",
    "coins = {'eth':derive_wallets(mnemonic=mnemonic,coin=ETH,numderive=3),'btc-test': derive_wallets(mnemonic=mnemonic,coin=BTCTEST,numderive=3)}\n",
    "\n",
    "eth_privatekey = coins['eth'][0]['privkey']\n",
    "btc_privatekey = coins['btc-test'][0]['privkey']"
   ]
  },
  {
   "cell_type": "code",
   "execution_count": 74,
   "metadata": {},
   "outputs": [
    {
     "name": "stdout",
     "output_type": "stream",
     "text": [
      "{\n",
      "    \"btc-test\": [\n",
      "        {\n",
      "            \"address\": \"msQvwuLLPSgh6WUqn24HmNm5CyuEF7uhpv\",\n",
      "            \"index\": 0,\n",
      "            \"path\": \"m/44'/1'/0'/0/0\",\n",
      "            \"privkey\": \"cQr2vvFf419mpWRYuiCCXQWuKF5xg5qYtPnUGRmzun2f9jVX8FSg\",\n",
      "            \"pubkey\": \"0254181993bf8e25e782655f55dca3905c52ae55463a4483e46d5e5632c3107f11\",\n",
      "            \"pubkeyhash\": \"827de38c24d36cc100535e41b6e6e014f0e01857\",\n",
      "            \"xprv\": \"tprv8jP5BA39mrSonCGAgUKF4m4QhHiiRA78aX4EVEPKbMafKPCu7J3os2WsYbxXU8cxzBvpvKCCnKfBK7Gz2PVrQ27QNCb1oeBtGuToVpG1u6q\",\n",
      "            \"xpub\": \"tpubDG57Ka5PvE8UffHxa7yqUAiXGKEeaVJ39pf1mkRd1dP49sTfjgsQ3X8jiioZZAfvVvvgKSZFUAAKEPgzaVMmaDwJSfrT9hSWX6Qw9M3cNZo\"\n",
      "        },\n",
      "        {\n",
      "            \"address\": \"muSU9Bhyot94s6jYc8KJMsCZvTLN5hMGpD\",\n",
      "            \"index\": 1,\n",
      "            \"path\": \"m/44'/1'/0'/0/1\",\n",
      "            \"privkey\": \"cNzE283VyW3KMox9gMtDt5X8FYncvgSMJv66GDdGx9XnNRoPRXir\",\n",
      "            \"pubkey\": \"0308cc5690172e500c36045d281a3472f83fc422317e0ff9a11caf5d7915153b77\",\n",
      "            \"pubkeyhash\": \"98b898a4a76cb55f896a53e592801170ec79eac2\",\n",
      "            \"xprv\": \"tprv8jP5BA39mrSoqJMssSkuCtCenuuyTyMybU4SzJZpRp3auA5iaynZPQdZ3e8SbhkJHCd2o2JJV6BUjuCvMKC88wt9XdoN4NViGbstFiZQWiB\",\n",
      "            \"xpub\": \"tpubDG57Ka5PvE8UimPfm6RVcHrmMwRudJYtAmfEGpc7r5qyjeLVDNc9ZuFRDnmVCkrg893gY2ycZJ2c9PnRoptDxWJLtKDz44pCWpDb1VSSPmQ\"\n",
      "        },\n",
      "        {\n",
      "            \"address\": \"mohxymynb5i8LBnK28PHdi4z1XkTVRYZzK\",\n",
      "            \"index\": 2,\n",
      "            \"path\": \"m/44'/1'/0'/0/2\",\n",
      "            \"privkey\": \"cSBLeMRxrTG7C19LKEj5gZq1CaGKkmr9cLrGF7tpeTSRwwhRMEmS\",\n",
      "            \"pubkey\": \"03d2310158e35d4257c7a7e7a4833b6a0483da4f9f65f9d5b10ae7c826e89e9b2c\",\n",
      "            \"pubkeyhash\": \"59d6274eeffbdc8f786a1616db10a28b3ed63d56\",\n",
      "            \"xprv\": \"tprv8jP5BA39mrSorRtvVEcqFcBbn1NxBNTZkYRat8D4FvucSSXjdTAL6wJ25PQa5P9SPuL3EEJGq5N6XFqT3njXKLw28JjPe6ZMYv5b64DsAb2\",\n",
      "            \"xpub\": \"tpubDG57Ka5PvE8UjtviNtHRf1qiM2ttLheUKr2NAeFMgCi1GvnWFqyvHRutFYrNV2RUxmPoKLNDxPCepLefVtRBuGDsnqAYACsdpHWDSZ2R9Eo\"\n",
      "        }\n",
      "    ],\n",
      "    \"eth\": [\n",
      "        {\n",
      "            \"address\": \"0x1F309350dEA6040246e74Aa13b431F1bb39f9f96\",\n",
      "            \"index\": 0,\n",
      "            \"path\": \"m/44'/60'/0'/0/0\",\n",
      "            \"privkey\": \"0xcebdce3026255ae6b6fdfac2e32a76128c7323aa57550d478cd6a251eb7d2712\",\n",
      "            \"pubkey\": \"02e6e250a7e205b88edb63fb2b08b3e8be75cbfe23ff988f13c18aac1a95fc7354\",\n",
      "            \"pubkeyhash\": \"8f1d6c66a516ddb15660541b64b55dd42434222f\",\n",
      "            \"xprv\": \"xprvA3NkDrCT3EKsSSmNfLscGsrDvPWwmh5Deg9ExdNE6TB88eLGDC14Qjft3bbAvNgMg39ghokZqHqJvE3X7wV8FNjYVszm1XVrXNbw6iLrKJK\",\n",
      "            \"xpub\": \"xpub6GN6dMjLsbtAevqqmNQce1nxURMSB9o51u4qm1mqeni71SfQkjKJxXzMtroa45JEwhq1ube5ZS2w83PRQ21GtCyt1qxUqM5sSHaBNQWV9yP\"\n",
      "        },\n",
      "        {\n",
      "            \"address\": \"0x2fe596A057c8F4f95d5E52b570c4e9eaA812f107\",\n",
      "            \"index\": 1,\n",
      "            \"path\": \"m/44'/60'/0'/0/1\",\n",
      "            \"privkey\": \"0xa508a9ea550ad0901a954a11449367bd4a1dbfdb806157e7f8913500749b4a5f\",\n",
      "            \"pubkey\": \"0379c55f6569602b3e289b08530872b43b34bef5c99b7b945f4d488d1e96106843\",\n",
      "            \"pubkeyhash\": \"f743a56e80551af852a112e845629e5f81d43cb3\",\n",
      "            \"xprv\": \"xprvA3NkDrCT3EKsTcrewgFKo7zzT2RpAkw3QTfTgiuWjt62uKmrWwxSvFRZPq6BQd4pfMg7wR397VdGodYxYxVw5ZKd6pKNK7rbfoVPfnvuZXp\",\n",
      "            \"xpub\": \"xpub6GN6dMjLsbtAg6w83hnLAFwj14GJaDetmgb4V7K8JDd1n8714VGhU3k3F7jdwBTmW19ZEpUzz17dFmSurZh7CbmF244Jr6eC4mfqSCJNhsy\"\n",
      "        },\n",
      "        {\n",
      "            \"address\": \"0xC146e6e7d59f79913bb96a1CF5c9da960aa34f65\",\n",
      "            \"index\": 2,\n",
      "            \"path\": \"m/44'/60'/0'/0/2\",\n",
      "            \"privkey\": \"0x7213fede911e651cbed5621999601623bf504b939488c9298ac087a6ccd5f4a7\",\n",
      "            \"pubkey\": \"0370f903bfb104db2b5a7832b4e114cfb01a0e7dfb9927de436366a81b7aa17ff2\",\n",
      "            \"pubkeyhash\": \"57053a895f73f864828b75a5edbcca8d9e0ba290\",\n",
      "            \"xprv\": \"xprvA3NkDrCT3EKsWMjRbxsbYXXeGwWtwh18JH5zc1hYk51Va937jT2NDftmAY8s12tVTgQ8XGtsx6F6QQho5WNYcG4srCiLRw2ubVecx6y52Uy\",\n",
      "            \"xpub\": \"xpub6GN6dMjLsbtAiqothzQbufUNpyMPM9iyfW1bQQ7AJQYUSwNGGzLcmUDF1q6tPE76ab9eze7i23v7R5LzSdnMuPr2xyFu8xH7MtPPnDBrXxb\"\n",
      "        }\n",
      "    ]\n",
      "}\n"
     ]
    }
   ],
   "source": [
    "print(json.dumps(coins, indent=4, sort_keys=True))"
   ]
  },
  {
   "cell_type": "code",
   "execution_count": 75,
   "metadata": {},
   "outputs": [],
   "source": [
    "def priv_key_to_account(coin, priv_key):\n",
    "    \"\"\"Convert the privkey string in a child key to an account object that bit or web3.py can use to transact\"\"\"\n",
    "    if coin == ETH:\n",
    "        return Account.privateKeyToAccount(priv_key)\n",
    "    if coin == BTCTEST:\n",
    "        return PrivateKeyTestnet(priv_key)\n",
    "    \n",
    "eth_account = priv_key_to_account(ETH,eth_privatekey)\n",
    "btc_account = priv_key_to_account(BTCTEST,btc_privatekey)"
   ]
  },
  {
   "cell_type": "code",
   "execution_count": 76,
   "metadata": {},
   "outputs": [
    {
     "name": "stdout",
     "output_type": "stream",
     "text": [
      "<eth_account.signers.local.LocalAccount object at 0x0000016A61884390>\n",
      "<PrivateKeyTestnet: msQvwuLLPSgh6WUqn24HmNm5CyuEF7uhpv>\n"
     ]
    }
   ],
   "source": [
    "print(eth_account)\n",
    "print(btc_account)"
   ]
  },
  {
   "cell_type": "code",
   "execution_count": 80,
   "metadata": {},
   "outputs": [],
   "source": [
    "def create_tx(coin, account, recipient, amount):\n",
    "    \"\"\"create the raw, unsigned transaction that contains all metadata needed to transact\"\"\"\n",
    "    global tx_data\n",
    "    if coin ==ETH:\n",
    "        gasEstimate = w3.eth.estimateGas(\n",
    "            {\"from\": account.address, \"to\": recipient, \"value\": amount}\n",
    "        )\n",
    "        tx_data = {\n",
    "            \"to\": recipient,\n",
    "            \"from\": account.address,\n",
    "            \"value\": amount,\n",
    "            \"gasPrice\": w3.eth.gasPrice,\n",
    "            \"gas\": gasEstimate,\n",
    "            \"nonce\": w3.eth.getTransactionCount(account.address)\n",
    "        }\n",
    "        return tx_data\n",
    "        \n",
    "    if coin == BTCTEST:\n",
    "        return PrivateKeyTestnet.prepare_transaction(account.address, [(recipient, amount, BTC)])   "
   ]
  },
  {
   "cell_type": "code",
   "execution_count": 89,
   "metadata": {},
   "outputs": [
    {
     "data": {
      "text/plain": [
       "'{\"unspents\":[{\"amount\":1768415,\"confirmations\":5210,\"script\":\"76a914827de38c24d36cc100535e41b6e6e014f0e0185788ac\",\"txid\":\"6f6165765c5d39246564b5cb5c7b45116b9dd72acd57e298d7a0e929a98d6dbb\",\"txindex\":1,\"type\":\"p2pkh\",\"vsize\":148,\"segwit\":false}],\"outputs\":[[\"msQvwuLLPSgh6WUqn24HmNm5CyuEF7uhpv\",10000],[\"msQvwuLLPSgh6WUqn24HmNm5CyuEF7uhpv\",1754347]]}'"
      ]
     },
     "execution_count": 89,
     "metadata": {},
     "output_type": "execute_result"
    }
   ],
   "source": [
    "create_tx(BTCTEST,btc_account,'msQvwuLLPSgh6WUqn24HmNm5CyuEF7uhpv',0.0001)"
   ]
  },
  {
   "cell_type": "code",
   "execution_count": 91,
   "metadata": {},
   "outputs": [],
   "source": [
    "def send_tx(coin, account, recipient, amount):\n",
    "    \"\"\"call create_tx, sign the transaction, then send it to the designated network\"\"\"\n",
    "    if coin =='ETH':\n",
    "        tx_eth = create_tx(coin,account, recipient, amount)\n",
    "        sign_tx_eth = account.sign_transaction(tx_eth)\n",
    "        result = w3.eth.sendRawTransaction(sign_tx_eth.rawTransaction)\n",
    "        print(result.hex())\n",
    "        return result.hex()\n",
    "    else:\n",
    "        tx_btctest= create_tx(coin,account,recipient,amount)\n",
    "        sign_tx_btctest = account.sign_transaction(tx_btctest)\n",
    "        from bit.network import NetworkAPI\n",
    "        NetworkAPI.broadcast_tx_testnet(sign_tx_btctest)       \n",
    "        return sign_tx_btctest"
   ]
  },
  {
   "cell_type": "code",
   "execution_count": 92,
   "metadata": {},
   "outputs": [
    {
     "data": {
      "text/plain": [
       "'0100000001bb6d8da929e9a0d798e257cd2ad79d6b11457b5ccbb5646524395d5c7665616f010000006b483045022100a04cceedabe288209b3629133398d3dd1f6db526e0d3e1477ee71dac555e66b5022072c94224cd7aa1f22e726274524cf1b3a71e6664e8f1a4b7a80c508a73c4149501210254181993bf8e25e782655f55dca3905c52ae55463a4483e46d5e5632c3107f11ffffffff0210270000000000001976a914827de38c24d36cc100535e41b6e6e014f0e0185788acebc41a00000000001976a914827de38c24d36cc100535e41b6e6e014f0e0185788ac00000000'"
      ]
     },
     "execution_count": 92,
     "metadata": {},
     "output_type": "execute_result"
    }
   ],
   "source": [
    "send_tx(BTCTEST,btc_account,'msQvwuLLPSgh6WUqn24HmNm5CyuEF7uhpv',0.0001)"
   ]
  }
 ],
 "metadata": {
  "jupytext": {
   "cell_metadata_filter": "-all",
   "main_language": "python",
   "notebook_metadata_filter": "-all"
  },
  "kernelspec": {
   "display_name": "Python 3",
   "language": "python",
   "name": "python3"
  },
  "language_info": {
   "codemirror_mode": {
    "name": "ipython",
    "version": 3
   },
   "file_extension": ".py",
   "mimetype": "text/x-python",
   "name": "python",
   "nbconvert_exporter": "python",
   "pygments_lexer": "ipython3",
   "version": "3.7.3"
  }
 },
 "nbformat": 4,
 "nbformat_minor": 2
}
